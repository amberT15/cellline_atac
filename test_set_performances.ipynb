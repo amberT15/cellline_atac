{
 "cells": [
  {
   "cell_type": "code",
   "execution_count": 1,
   "id": "5053d586",
   "metadata": {},
   "outputs": [],
   "source": [
    "import gopher.metrics as metrics\n",
    "import sys\n",
    "sys.path.append('../gopher/analysis')\n",
    "sys.path.append('../gopher/gopher')\n",
    "import evaluate\n",
    "import pandas as pd\n",
    "import os\n",
    "import numpy as np\n",
    "from scipy import stats\n",
    "os.environ[\"CUDA_VISIBLE_DEVICES\"]=\"2\""
   ]
  },
  {
   "cell_type": "code",
   "execution_count": 2,
   "id": "66514859",
   "metadata": {},
   "outputs": [],
   "source": [
    "res_64 = '/home/amber/colab_hani/gopher/wandb/run-20221218_163518-gvz8zmt8/'\n",
    "res_32 ='/home/amber/colab_hani/gopher/wandb/run-20221218_163438-15agtzwg/'\n",
    "res_1 = '/home/amber/colab_hani/gopher/wandb/run-20221218_163405-fup7ckks/'"
   ]
  },
  {
   "cell_type": "code",
   "execution_count": null,
   "id": "0cc87e89",
   "metadata": {},
   "outputs": [
    {
     "name": "stdout",
     "output_type": "stream",
     "text": [
      "USING PREDEFINED LIST OF RUNS\n",
      "3\n"
     ]
    },
    {
     "name": "stderr",
     "output_type": "stream",
     "text": [
      "2023-01-21 02:37:21.149084: I tensorflow/core/platform/cpu_feature_guard.cc:151] This TensorFlow binary is optimized with oneAPI Deep Neural Network Library (oneDNN) to use the following CPU instructions in performance-critical operations:  AVX2 FMA\n",
      "To enable them in other operations, rebuild TensorFlow with the appropriate compiler flags.\n",
      "2023-01-21 02:37:21.629003: I tensorflow/core/common_runtime/gpu/gpu_device.cc:1525] Created device /job:localhost/replica:0/task:0/device:GPU:0 with 14257 MB memory:  -> device: 0, name: NVIDIA RTX A4000, pci bus id: 0000:22:00.0, compute capability: 8.6\n"
     ]
    },
    {
     "name": "stdout",
     "output_type": "stream",
     "text": [
      "/home/amber/colab_hani/gopher/wandb/run-20221218_163518-gvz8zmt8/\n",
      "WARNING:tensorflow:No training configuration found in the save file, so the model was *not* compiled. Compile it manually.\n"
     ]
    },
    {
     "name": "stderr",
     "output_type": "stream",
     "text": [
      "2023-01-21 02:37:25.984192: I tensorflow/stream_executor/cuda/cuda_dnn.cc:368] Loaded cuDNN version 8100\n",
      "2023-01-21 02:37:27.736671: I tensorflow/stream_executor/cuda/cuda_blas.cc:1786] TensorFloat-32 will be used for the matrix multiplication. This will only be logged once.\n"
     ]
    },
    {
     "name": "stdout",
     "output_type": "stream",
     "text": [
      "/home/amber/colab_hani/gopher/wandb/run-20221218_163438-15agtzwg/\n",
      "WARNING:tensorflow:No training configuration found in the save file, so the model was *not* compiled. Compile it manually.\n",
      "/home/amber/colab_hani/gopher/wandb/run-20221218_163405-fup7ckks/\n",
      "WARNING:tensorflow:No training configuration found in the save file, so the model was *not* compiled. Compile it manually.\n"
     ]
    }
   ],
   "source": [
    "%%time\n",
    "# use list of run directories\n",
    "## Setting fast = True would greatly improve running speed but lower accuracy a bit\n",
    "output_dir = './test_performance/'\n",
    "evaluate.evaluate_project(data_dir='/home/amber/colab_hani/gopher/data/atac_tfr/i_5120_w_1',\n",
    "                          run_dir_list=[res_64,res_32,res_1], output_dir=output_dir,\n",
    "                         batch_size=64,fast=False)"
   ]
  },
  {
   "cell_type": "code",
   "execution_count": 4,
   "id": "696ff94b",
   "metadata": {},
   "outputs": [],
   "source": [
    "evaluation_results = pd.read_csv(output_dir+'/evaluation_results.csv', index_col='index') # get results from default output path"
   ]
  },
  {
   "cell_type": "code",
   "execution_count": 5,
   "id": "d68e6dc8",
   "metadata": {},
   "outputs": [
    {
     "name": "stdout",
     "output_type": "stream",
     "text": [
      "res 64\n",
      "Pearson's R:  0.6507883819308967\n",
      "MSE:  0.04301416462159348\n",
      "res 32\n",
      "Pearson's R:  0.6527549081974716\n",
      "MSE:  0.043088850581720996\n",
      "res 1\n",
      "Pearson's R:  0.6519179895847182\n",
      "MSE:  0.043084018019610024\n"
     ]
    }
   ],
   "source": [
    "for run in evaluation_results['run_dir'].unique():\n",
    "    sub_df = evaluation_results[evaluation_results['run_dir']==run]\n",
    "    pr_list = sub_df['pr_corr']\n",
    "    mse_list = sub_df['mse']\n",
    "    average_pr = np.mean(pr_list.values)\n",
    "    average_mse = np.mean(mse_list.values)\n",
    "    print('res',sub_df['bin_size'].unique()[0])\n",
    "    print(\"Pearson's R: \",average_pr)\n",
    "    print(\"MSE: \",average_mse)"
   ]
  },
  {
   "cell_type": "code",
   "execution_count": null,
   "id": "d757fc95",
   "metadata": {},
   "outputs": [],
   "source": [
    "pr_list"
   ]
  }
 ],
 "metadata": {
  "kernelspec": {
   "display_name": "Python 3 (ipykernel)",
   "language": "python",
   "name": "python3"
  },
  "language_info": {
   "codemirror_mode": {
    "name": "ipython",
    "version": 3
   },
   "file_extension": ".py",
   "mimetype": "text/x-python",
   "name": "python",
   "nbconvert_exporter": "python",
   "pygments_lexer": "ipython3",
   "version": "3.8.10"
  }
 },
 "nbformat": 4,
 "nbformat_minor": 5
}
